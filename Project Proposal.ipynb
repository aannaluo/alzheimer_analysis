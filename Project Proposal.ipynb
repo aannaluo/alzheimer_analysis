{
 "cells": [
  {
   "cell_type": "code",
   "execution_count": null,
   "id": "cc042294-43f2-4e2e-9f62-a9d9d1d25715",
   "metadata": {},
   "outputs": [],
   "source": [
    "# Load the required libraries\n",
    "library(dplyr)\n",
    "library(readr)\n",
    "\n",
    "# Read the CSV file into a data frame\n",
    "\n",
    "# nwbv <- read_csv(\"https://github.com/yuwangy/alzheimer_analysis/blob/main/oasis_longitudinal.csv\")\n",
    "# nwbv\n"
   ]
  },
  {
   "cell_type": "code",
   "execution_count": null,
   "id": "b2d31281-37c8-4a48-9d5a-569db458660a",
   "metadata": {},
   "outputs": [],
   "source": []
  },
  {
   "cell_type": "code",
   "execution_count": null,
   "id": "c6c176ec-6273-44c6-b4a2-1070fb0b5a91",
   "metadata": {},
   "outputs": [],
   "source": []
  }
 ],
 "metadata": {
  "kernelspec": {
   "display_name": "R",
   "language": "R",
   "name": "ir"
  },
  "language_info": {
   "codemirror_mode": "r",
   "file_extension": ".r",
   "mimetype": "text/x-r-source",
   "name": "R",
   "pygments_lexer": "r",
   "version": "4.1.3"
  }
 },
 "nbformat": 4,
 "nbformat_minor": 5
}
